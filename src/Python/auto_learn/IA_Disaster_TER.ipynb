{
  "nbformat": 4,
  "nbformat_minor": 0,
  "metadata": {
    "colab": {
      "name": "IA_Disaster_TER.ipynb",
      "provenance": [],
      "collapsed_sections": []
    },
    "kernelspec": {
      "name": "python3",
      "display_name": "Python 3"
    },
    "language_info": {
      "name": "python"
    }
  },
  "cells": [
    {
      "cell_type": "markdown",
      "metadata": {
        "id": "1tMNL17MfkxG"
      },
      "source": [
        "**Importation**"
      ]
    },
    {
      "cell_type": "code",
      "metadata": {
        "id": "7T0DAadW2Rrz",
        "colab": {
          "base_uri": "https://localhost:8080/"
        },
        "outputId": "14ea4d88-08f3-4be3-cb98-6e2a4be54164"
      },
      "source": [
        "#Scikit update warnings\n",
        "import warnings\n",
        "warnings.filterwarnings(\"ignore\", category=FutureWarning)\n",
        "\n",
        "import pandas as pd\n",
        "import re\n",
        "from tabulate import tabulate\n",
        "import time\n",
        "import numpy as np\n",
        "import pickle\n",
        "import string\n",
        "import base64\n",
        "\n",
        "# librairie affichage\n",
        "import matplotlib.pyplot as plt\n",
        "import seaborn as sns\n",
        "\n",
        "# librairies scikit learn\n",
        "import sklearn\n",
        "from sklearn.feature_extraction.text import CountVectorizer\n",
        "from sklearn.feature_extraction.text import TfidfVectorizer\n",
        "from sklearn.base import TransformerMixin\n",
        "from sklearn.pipeline import Pipeline\n",
        "from sklearn.model_selection import train_test_split\n",
        "from sklearn import metrics\n",
        "from sklearn.model_selection import cross_val_score\n",
        "from sklearn.metrics import confusion_matrix\n",
        "from sklearn.metrics import classification_report\n",
        "from sklearn.model_selection import KFold\n",
        "from sklearn.model_selection import GridSearchCV\n",
        "from sklearn.metrics import accuracy_score\n",
        "\n",
        "# librairies des classifiers utilisés\n",
        "from sklearn.svm import SVC\n",
        "from sklearn.linear_model import LogisticRegression\n",
        "from sklearn.tree import DecisionTreeClassifier\n",
        "from sklearn.neighbors import KNeighborsClassifier\n",
        "from sklearn.naive_bayes import MultinomialNB\n",
        "from sklearn.ensemble import RandomForestClassifier\n",
        "\n",
        "# librairies NLTK\n",
        "import nltk\n",
        "from nltk.stem import WordNetLemmatizer\n",
        "from nltk.stem import PorterStemmer \n",
        "from nltk.corpus import stopwords\n",
        "from nltk import word_tokenize \n",
        "\n",
        " \n",
        "nltk.download('wordnet')\n",
        "nltk.download('stopwords')\n",
        "nltk.download('punkt')\n",
        "stop_words = set(stopwords.words('english')) \n",
        "\n",
        "# librairies générales\n",
        "import pandas as pd\n",
        "import time\n",
        "import numpy as np\n",
        "\n",
        "# librairie affichage\n",
        "import matplotlib.pyplot as plt\n",
        "import seaborn as sns\n",
        "\n",
        "# librairie scikit-learn\n",
        "from sklearn import metrics\n",
        "from sklearn.model_selection import cross_val_score\n",
        "from sklearn.metrics import confusion_matrix\n",
        "from sklearn.metrics import classification_report\n",
        "from sklearn.model_selection import KFold\n",
        "from sklearn.model_selection import GridSearchCV\n",
        "from sklearn.metrics import accuracy_score\n",
        "\n",
        "\n",
        "# classe pour afficher proprement les paramètres d'un classifieur\n",
        "class Result_Parameters:\n",
        "     def __init__(self,name, score, parameters):\n",
        "         self.name = name\n",
        "         self.score = score\n",
        "         self.parameters = parameters\n",
        "     def __repr__(self):\n",
        "         return repr((self.name, self.score, self.parameters))\n",
        "\n",
        "# classe pour afficher proprement les résultats d'une classification\n",
        "class Result:\n",
        "     def __init__(self,name, scoremean, stdresult,timespent):\n",
        "         self.name = name\n",
        "         self.scoremean = scoremean\n",
        "         self.stdresult = stdresult\n",
        "         self.timespent = timespent\n",
        "     def __repr__(self):\n",
        "         return repr((self.name, self.scoremean, self.stdresult,self.timespent))\n",
        "\n",
        "\n",
        "# fonction utilisée pour l'affichage de la matrice de confusion\n",
        "def plot_confusion_matrix(confusionmatrix, classes):\n",
        "    sns.set(color_codes=True)\n",
        "    plt.figure(1, figsize=(8, 5))\n",
        " \n",
        "    plt.title(\"Matrice de confusion\")\n",
        " \n",
        "    sns.set(font_scale=1.4)\n",
        "    ax = sns.heatmap(confusionmatrix, annot=True, cmap=\"YlGnBu\", cbar_kws={'label': 'Scale'},fmt='g')\n",
        " \n",
        "    ax.set_xticklabels(classes,rotation=45)\n",
        "    ax.set_yticklabels(classes,rotation=0)\n",
        " \n",
        "    ax.set(ylabel=\"True Label\", xlabel=\"Predicted Label\")\n",
        "    plt.show()\n",
        "    plt.close()   \n",
        "    \n",
        "# fonction qui affiche le classification report et la matrice de confusion\n",
        "def MyshowAllScores(y_test,y_pred):\n",
        "  classes= np.unique(y_test)\n",
        "  print(\"Accuracy : %0.3f\"%(accuracy_score(y_test,y_pred)))\n",
        "  print(\"Classification Report\")\n",
        "  print(classification_report(y_test,y_pred,digits=5))    \n",
        "  cnf_matrix = confusion_matrix(y_test,y_pred)\n",
        "  plot_confusion_matrix(cnf_matrix, classes)\n",
        "\n",
        "\n",
        "# fonction qui teste un ensemble de pipeline et affiche les meilleurs résultats triés par score    \n",
        "def MyTestPipelines(models,X,y,score='accuracy'):\n",
        "  seed = 7        \n",
        "  allresults = []\n",
        "  results = []\n",
        "  names = []\n",
        "  for name,model in models:\n",
        "    # cross validation en 10 fois\n",
        "    kfold = KFold(n_splits=10, random_state=seed)\n",
        "    \n",
        "    print (\"Evaluation de \",name)\n",
        "    start_time = time.time()\n",
        "    # application de la classification\n",
        "    cv_results = cross_val_score(model, X, y, cv=kfold, scoring=score)\n",
        "    \n",
        "    # pour afficher les paramètres du modèle en cours et la taille du vecteur intermédiaire\n",
        "    # enlever le commentaire des deux lignes suivantes \n",
        "    #print (\"paramètre du modèle \",model.get_params(),'\\n')\n",
        "    #print (\"taille du vecteur : \",(model.named_steps['tfidf_vectorizer'].fit_transform(X)).shape,'\\n')\n",
        "\n",
        "    thetime=time.time() - start_time\n",
        "    result=Result(name,cv_results.mean(),cv_results.std(),thetime)\n",
        "    allresults.append(result)\n",
        "    # pour affichage\n",
        "    results.append(cv_results)\n",
        "    names.append(name)\n",
        "    print(\"%s : %0.3f (%0.3f) in %0.3f s\" % (name, cv_results.mean(), cv_results.std(),thetime))         \n",
        "    \n",
        "  allresults=sorted(allresults, key=lambda result: result.scoremean, reverse=True) \n",
        "\n",
        "  # affichage des résultats\n",
        "  print ('\\nLe meilleur resultat : ')\n",
        "  print ('Classifier : ',allresults[0].name, \n",
        "       ' %s : %0.3f' %(score,allresults[0].scoremean), \n",
        "       ' (%0.3f)'%allresults[0].stdresult,  \n",
        "       ' en %0.3f '%allresults[0].timespent,' s\\n')\n",
        "\n",
        "  print ('Tous les résultats : \\n')\n",
        "  for result in allresults:\n",
        "    print ('Classifier : ',result.name, \n",
        "       ' %s : %0.3f' %(score,result.scoremean), \n",
        "       ' (%0.3f)'%result.stdresult,  \n",
        "       ' en %0.3f '%result.timespent,' s')\n",
        "  return allresults      \n"
      ],
      "execution_count": 2,
      "outputs": [
        {
          "output_type": "stream",
          "text": [
            "[nltk_data] Downloading package wordnet to\n",
            "[nltk_data]     C:\\Users\\vivap\\AppData\\Roaming\\nltk_data...\n",
            "[nltk_data]   Package wordnet is already up-to-date!\n",
            "[nltk_data] Downloading package stopwords to\n",
            "[nltk_data]     C:\\Users\\vivap\\AppData\\Roaming\\nltk_data...\n",
            "[nltk_data]   Package stopwords is already up-to-date!\n",
            "[nltk_data] Downloading package punkt to\n",
            "[nltk_data]     C:\\Users\\vivap\\AppData\\Roaming\\nltk_data...\n",
            "[nltk_data]   Package punkt is already up-to-date!\n"
          ],
          "name": "stderr"
        }
      ]
    },
    {
      "cell_type": "markdown",
      "metadata": {
        "id": "_4ubgLnLZOqg"
      },
      "source": [
        "**Chargement dataset**"
      ]
    },
    {
      "cell_type": "code",
      "metadata": {
        "id": "Szdvw3Pe4j9s",
        "colab": {
          "base_uri": "https://localhost:8080/"
        },
        "outputId": "8440a4ab-99ed-4d08-890d-c0232dbf6c6a"
      },
      "source": [
        "#from google.colab import drive\n",
        "#drive.mount('/content/gdrive')\n",
        "#%cd /content/gdrive/My Drive/Notebooks/Poncelet_IA\n",
        "\n",
        "\n",
        "names=[\"tweet_id\", \"relevancy\", \"keyword\", \"text\"]\n",
        "\n",
        "df_disaster = pd.read_csv(\"disaster_tweet_cleaned_0.csv\", usecols=[0, 5, 8, 10], names=names)\n",
        "df_disaster_equil = pd.read_csv(\"disaster_tweet_cleaned_7.csv\", usecols=[0, 5, 8, 10], names=names)\n",
        "\n",
        "print(\"Nombre d'occurrences par classe (original) :\\n\",df_disaster['relevancy'].value_counts())\n",
        "print(\"\")\n",
        "print(\"Nombre d'occurrences par classe (equilibré):\\n\",df_disaster_equil['relevancy'].value_counts())\n",
        "#print(\"Nombre d'occurrences par classe : \\n\",df_disaster['keyword'].value_counts())"
      ],
      "execution_count": 3,
      "outputs": [
        {
          "output_type": "stream",
          "text": [
            "Nombre d'occurrences par classe (original) :\n",
            " Not Relevant    6158\n",
            "Relevant        4615\n",
            "Name: relevancy, dtype: int64\n",
            "\n",
            "Nombre d'occurrences par classe (equilibré):\n",
            " Not Relevant    4680\n",
            "Relevant        4615\n",
            "Name: relevancy, dtype: int64\n"
          ],
          "name": "stdout"
        }
      ]
    },
    {
      "cell_type": "markdown",
      "metadata": {
        "id": "PboLj3i8ZSem"
      },
      "source": [
        "**Preprocess**"
      ]
    },
    {
      "cell_type": "code",
      "metadata": {
        "id": "71UCRsEJ7Foj"
      },
      "source": [
        "import re\n",
        "import emoji\n",
        "\n",
        "# Cette fonction ne prends en charge que les lettres latines\n",
        "def MyCleanText(X,\n",
        "               removeEmoji=False, #Emojis\n",
        "               removeHashtags=False, #Suppression hashtags\n",
        "              ):\n",
        "\n",
        "    sentence=str(X)\n",
        "\n",
        "    #Substitution des espaces multiples par un seul espace\n",
        "    sentence = re.sub(r'\\s+', ' ', sentence, flags=re.I)\n",
        "\n",
        "    #Suppression mentions et url\n",
        "    sentence = re.sub(r\"(?:\\@[a-zA-Z\\_0-9]+|https?\\:\\/\\/\\S+)\", \"\", sentence)\n",
        "\n",
        "    # decoupage en mots\n",
        "    tokens = word_tokenize(sentence)\n",
        "\n",
        "    # suppression ponctuation\n",
        "    table = str.maketrans('', '', string.punctuation)\n",
        "    words = [token.translate(table) for token in tokens]\n",
        "\n",
        "    # suppression des tokens non alphabetique ou numerique\n",
        "    words = [word for word in words if word.isalnum()]\n",
        "\n",
        "    #Suppression hashtag\n",
        "    if removeHashtags:\n",
        "      sentence = re.sub(r\"\\B(\\#[a-zA-Z0-9\\_]+\\b)\", \"\", sentence)\n",
        "\n",
        "    #Suppression emojis\n",
        "    if removeEmoji:\n",
        "      sentence = emoji.get_emoji_regexp().sub(u'', sentence) #On utilise le package emojis car les règles unicodes des emojis changent constamment\n",
        "\n",
        "    return sentence\n",
        "\n",
        "from sklearn.base import BaseEstimator, TransformerMixin\n",
        "from sklearn.pipeline import Pipeline\n",
        "\n",
        "class TextNormalizer(BaseEstimator, TransformerMixin):\n",
        "    def __init__(self, \n",
        "                 removeEmoji=False, #Emojis\n",
        "                 removeHashtags=False, #Suppression hashtags\n",
        "                ):\n",
        "        \n",
        "        self.removeEmoji=removeEmoji\n",
        "        self.removeHashtags=removeHashtags\n",
        "        \n",
        "\n",
        "    def transform(self, X, **transform_params):\n",
        "        # Nettoyage du texte\n",
        "        X=X.copy() # pour conserver le fichier d'origine\n",
        "        return [MyCleanText(text,\n",
        "                            removeEmoji=self.removeEmoji,\n",
        "                            removeHashtags=self.removeHashtags) for text in X]\n",
        "\n",
        "    def fit(self, X, y=None, **fit_params):\n",
        "        return self\n",
        "    \n",
        "    def fit_transform(self, X, y=None, **fit_params):\n",
        "        return self.fit(X).transform(X)\n",
        "\n",
        "    def get_params(self, deep=True):\n",
        "        return {\n",
        "            'removeEmoji':self.removeEmoji,\n",
        "            'removeHashtags':self.removeHashtags\n",
        "        }    \n",
        "    \n",
        "    def set_params (self, **parameters):\n",
        "        for parameter, value in parameters.items():\n",
        "            setattr(self,parameter,value)\n",
        "        return self"
      ],
      "execution_count": 4,
      "outputs": []
    },
    {
      "cell_type": "markdown",
      "metadata": {
        "id": "1OlVHoOPgN3j"
      },
      "source": [
        "**Test pré-traitement**"
      ]
    },
    {
      "cell_type": "code",
      "metadata": {
        "id": "HzOjcCdngIFy",
        "colab": {
          "base_uri": "https://localhost:8080/"
        },
        "outputId": "1c74b060-3a73-41b9-96ff-8a6c5bdda9f6"
      },
      "source": [
        "s = \"2020 can't get any worse 💕👭👙 #ihate2020 ぼくの名前は　👨‍👩‍👦‍👦 @bestfriend https://t.co　ッッッッッ\"\n",
        "\n",
        "print(\"Normal :\", MyCleanText(s))\n",
        "print(\"Hashtags :\", MyCleanText(s, removeHashtags=True))\n",
        "print(\"Emoji :\", MyCleanText(s, removeEmoji=True))\n",
        "print(\"Both : \", MyCleanText(s, removeHashtags=True, removeEmoji=True))"
      ],
      "execution_count": 5,
      "outputs": [
        {
          "output_type": "stream",
          "text": [
            "Normal : 2020 can't get any worse 💕👭👙 #ihate2020 ぼくの名前は 👨‍👩‍👦‍👦   ッッッッッ\n",
            "Hashtags : 2020 can't get any worse 💕👭👙  ぼくの名前は 👨‍👩‍👦‍👦   ッッッッッ\n",
            "Emoji : 2020 can't get any worse  #ihate2020 ぼくの名前は    ッッッッッ\n",
            "Both :  2020 can't get any worse   ぼくの名前は    ッッッッッ\n"
          ],
          "name": "stdout"
        }
      ]
    },
    {
      "cell_type": "markdown",
      "metadata": {
        "id": "9Me6IMtKgQDU"
      },
      "source": [
        "**Test de plusieurs pré-traitement**"
      ]
    },
    {
      "cell_type": "code",
      "metadata": {
        "id": "SfCGZaIfEjel"
      },
      "source": [
        "# pipeline de l'utilisation de TfidfVectorizer sur le texte presque sans traitement\n",
        "TFIDF_brut = Pipeline ([(\"cleaner\", TextNormalizer()), \n",
        "                    (\"tfidf_vectorizer\", TfidfVectorizer()),\n",
        "                    ('MultinomialNB',MultinomialNB())])\n",
        "\n",
        "TFIDF_emoji = Pipeline ([(\"cleaner\", TextNormalizer(removeEmoji=True)), \n",
        "                    (\"tfidf_vectorizer\", TfidfVectorizer()),\n",
        "                    ('MultinomialNB',MultinomialNB())])\n",
        "\n",
        "TFIDF_emoji_hashtag = Pipeline ([(\"cleaner\", TextNormalizer(removeEmoji=True,removeHashtags=True)), \n",
        "                    (\"tfidf_vectorizer\", TfidfVectorizer()),\n",
        "                    ('MultinomialNB',MultinomialNB())])\n",
        "\n",
        "# Liste de tous les modèles à tester\n",
        "all_models = [\n",
        "    (\"TFIDF_brut\", TFIDF_brut),\n",
        "    (\"TFIDF_emoji\", TFIDF_emoji),\n",
        "    (\"TFIDF_emoji_hashtag\", TFIDF_emoji_hashtag)\n",
        "]"
      ],
      "execution_count": 6,
      "outputs": []
    },
    {
      "cell_type": "code",
      "metadata": {
        "id": "QQtoEe4IFBcw",
        "colab": {
          "base_uri": "https://localhost:8080/"
        },
        "outputId": "cef58835-4819-485c-d51e-687252affc0e"
      },
      "source": [
        "from sklearn.model_selection import cross_val_score\n",
        "\n",
        "#dill utilise les mêmes interfaces que Pickle, et permet d'utiliser joblib pour paralléliser\n",
        "import dill as pickle\n",
        "\n",
        "# Non équilibré\n",
        "X=df_disaster.text\n",
        "y=df_disaster.relevancy\n",
        "\n",
        "#Evaluation des différents pipelines non équilibré\n",
        "unsorted_scores = [(name, cross_val_score(model, X, y, cv=5, n_jobs=16).mean()) for name, model in all_models]\n",
        "scores = sorted(unsorted_scores, key=lambda x: -x[1])\n",
        "\n",
        "print(\"Non équilibré : \")\n",
        "print (tabulate(scores, floatfmt=\".3f\", headers=(\"Pipeline\", 'Score')))\n",
        "print(\"\")\n",
        "\n",
        "# Equilibré\n",
        "X=df_disaster_equil.text\n",
        "y=df_disaster_equil.relevancy\n",
        "\n",
        "#Evaluation des différents pipelines équilibré\n",
        "unsorted_scores = [(name, cross_val_score(model, X, y, cv=5, n_jobs=16).mean()) for name, model in all_models]\n",
        "scores = sorted(unsorted_scores, key=lambda x: -x[1])\n",
        "\n",
        "print(\"Equilibré : \")\n",
        "print (tabulate(scores, floatfmt=\".3f\", headers=(\"Pipeline\", 'Score')))"
      ],
      "execution_count": 6,
      "outputs": [
        {
          "output_type": "stream",
          "text": [
            "Non équilibré : \n",
            "Pipeline               Score\n",
            "-------------------  -------\n",
            "TFIDF_emoji            0.728\n",
            "TFIDF_brut             0.728\n",
            "TFIDF_emoji_hashtag    0.722\n",
            "\n",
            "Equilibré : \n",
            "Pipeline               Score\n",
            "-------------------  -------\n",
            "TFIDF_brut             0.712\n",
            "TFIDF_emoji            0.712\n",
            "TFIDF_emoji_hashtag    0.703\n"
          ],
          "name": "stdout"
        }
      ]
    },
    {
      "cell_type": "markdown",
      "metadata": {
        "id": "zGPBhnD6g8Iq"
      },
      "source": [
        "**Choix du meilleur classifier**"
      ]
    },
    {
      "cell_type": "code",
      "metadata": {
        "id": "oIdJZmQ7TcgB"
      },
      "source": [
        "from sklearn.linear_model import LogisticRegression\n",
        "from sklearn.tree import DecisionTreeClassifier\n",
        "from sklearn.neighbors import KNeighborsClassifier\n",
        "from sklearn.svm import LinearSVC\n",
        "from sklearn.naive_bayes import MultinomialNB\n",
        "from sklearn.ensemble import RandomForestClassifier\n",
        "from sklearn.naive_bayes import ComplementNB\n",
        "from sklearn.discriminant_analysis import LinearDiscriminantAnalysis\n",
        "from sklearn.linear_model import Perceptron\n",
        "from sklearn.naive_bayes import BernoulliNB\n",
        "from sklearn.neighbors import NearestCentroid\n",
        "from sklearn.linear_model import SGDClassifier\n",
        "from sklearn.linear_model import PassiveAggressiveClassifier\n",
        "from sklearn.linear_model import RidgeClassifier\n",
        "\n",
        "\n",
        "# creation du tableau des différents classifieur \n",
        "\n",
        "\n",
        "models = []\n",
        "#models.append(('CART', DecisionTreeClassifier())) #SLOW\n",
        "#models.append(('RF', RandomForestClassifier())) #SLOW\n",
        "#models.append((\"LinearDiscriminantAnalysis\", LinearDiscriminantAnalysis())) #SLOW\n",
        "#models.append(('RidgeClassifier', RidgeClassifier())) #Slow but not bad\n",
        "\n",
        "models.append(('ComplementNB', ComplementNB())) #Pas mieux, même si déséquilibré, fast\n",
        "models.append(('KNN', KNeighborsClassifier())) #Fast\n",
        "models.append(('MultinomialNB',MultinomialNB())) #Fast\n",
        "models.append(('LinearSVC', LinearSVC())) #Fast but meh\n",
        "models.append(('LR', LogisticRegression(solver='lbfgs', n_jobs=20))) #Slowish 60 seconds\n",
        "models.append(('Perceptron', Perceptron(n_jobs=20))) #Fast\n",
        "models.append(('BernouilliNB', BernoulliNB())) #Fast and good\n",
        "models.append(('NearestCentroid', NearestCentroid())) #Fast but bad\n",
        "models.append(('SGDClassifier', SGDClassifier(n_jobs=20))) #Fast and good\n",
        "models.append(('PassiveAggressiveClassifier', PassiveAggressiveClassifier(n_jobs=20))) #Fast but bad\n",
        "\n",
        "\n"
      ],
      "execution_count": 23,
      "outputs": []
    },
    {
      "cell_type": "markdown",
      "metadata": {
        "id": "YRRvayTMg__7"
      },
      "source": [
        "**Exécution des classifiers**"
      ]
    },
    {
      "cell_type": "code",
      "metadata": {
        "colab": {
          "base_uri": "https://localhost:8080/"
        },
        "id": "9HU_ztCOTjUl",
        "outputId": "5a8e83c0-20d7-468c-9cf8-a0e9b92a54e9"
      },
      "source": [
        "from sklearn.metrics import confusion_matrix\n",
        "from sklearn.metrics import classification_report\n",
        "from sklearn.model_selection import KFold\n",
        "from sklearn.model_selection import cross_val_score\n",
        "\n",
        "\n",
        "score = 'accuracy'\n",
        "seed = 7        \n",
        "allresults = []\n",
        "results = []\n",
        "names = []\n",
        "\n",
        "X = df_disaster.text\n",
        "y = df_disaster.relevancy\n",
        "\n",
        "# Nous appliquons les pré-traitements sur X\n",
        "\n",
        "text_normalizer=TextNormalizer(removeEmoji=True)  \n",
        "# appliquer fit.transform pour réaliser les pré-traitements sur X\n",
        "X_cleaned=text_normalizer.fit_transform(X)\n",
        "\n",
        "# pour l'enchainer avec un tf-idf et obtenir une matrice\n",
        "tfidf=TfidfVectorizer()\n",
        "features=tfidf.fit_transform(X_cleaned).toarray()\n",
        "\n",
        "# attention ici il faut passer features dans cross_val_score plutôt que X\n",
        "    \n",
        "for name,model in models:\n",
        "    # cross validation en 10 fois\n",
        "    kfold = KFold(n_splits=10, random_state=seed, shuffle=True)\n",
        "    \n",
        "    print (\"Evaluation de \",name)\n",
        "    start_time = time.time()\n",
        "    # application de la classification\n",
        "    cv_results = cross_val_score(model, features, y, cv=kfold, scoring=score, n_jobs=20)\n",
        "    \n",
        "    # pour afficher les paramètres du modèle en cours et la taille du vecteur intermédiaire\n",
        "    # enlever le commentaire des deux lignes suivantes \n",
        "    #print (\"paramètre du modèle \",model.get_params(),'\\n')\n",
        "    #ICI #print (\"taille du vecteur : \",(model.named_steps['tfidf_vectorizer'].fit_transform(X)).shape,'\\n')\n",
        "\n",
        "    thetime=time.time() - start_time\n",
        "    result=Result(name,cv_results.mean(),cv_results.std(),thetime)\n",
        "    allresults.append(result)\n",
        "    # pour affichage\n",
        "    results.append(cv_results)\n",
        "    names.append(name)\n",
        "    print(\"%s : %0.3f (%0.3f) in %0.3f s\" % (name, cv_results.mean(), cv_results.std(),thetime))         \n",
        "    \n",
        "allresults=sorted(allresults, key=lambda result: result.scoremean, reverse=True) \n",
        "\n",
        "# affichage des résultats\n",
        "print ('\\nLe meilleur resultat : ')\n",
        "print ('Classifier : ',allresults[0].name, \n",
        "       ' %s : %0.3f' %(score,allresults[0].scoremean), \n",
        "       ' (%0.3f)'%allresults[0].stdresult,  \n",
        "       ' en %0.3f '%allresults[0].timespent,' s\\n')\n",
        "\n",
        "print ('Tous les résultats : \\n')\n",
        "for result in allresults:\n",
        "    print ('Classifier : ',result.name, \n",
        "       ' %s : %0.3f' %(score,result.scoremean), \n",
        "       ' (%0.3f)'%result.stdresult,  \n",
        "       ' en %0.3f '%result.timespent,' s')\n",
        "    \n",
        "####tester naive base, random forest classifier, svm, (k neighbor trop lent)"
      ],
      "execution_count": 24,
      "outputs": [
        {
          "output_type": "stream",
          "text": [
            "Evaluation de  ComplementNB\n",
            "ComplementNB : 0.800 (0.008) in 12.966 s\n",
            "Evaluation de  KNN\n",
            "KNN : 0.777 (0.008) in 30.433 s\n",
            "Evaluation de  MultinomialNB\n",
            "MultinomialNB : 0.803 (0.015) in 9.071 s\n",
            "Evaluation de  LinearSVC\n",
            "LinearSVC : 0.800 (0.005) in 7.749 s\n",
            "Evaluation de  LR\n",
            "LR : 0.809 (0.011) in 65.654 s\n",
            "Evaluation de  Perceptron\n",
            "Perceptron : 0.760 (0.023) in 17.402 s\n",
            "Evaluation de  BernouilliNB\n",
            "BernouilliNB : 0.805 (0.009) in 14.891 s\n",
            "Evaluation de  NearestCentroid\n",
            "NearestCentroid : 0.751 (0.014) in 10.935 s\n",
            "Evaluation de  SGDClassifier\n",
            "SGDClassifier : 0.806 (0.008) in 23.214 s\n",
            "Evaluation de  PassiveAggressiveClassifier\n",
            "PassiveAggressiveClassifier : 0.765 (0.010) in 34.882 s\n",
            "\n",
            "Le meilleur resultat : \n",
            "Classifier :  LR  accuracy : 0.809  (0.011)  en 65.654   s\n",
            "\n",
            "Tous les résultats : \n",
            "\n",
            "Classifier :  LR  accuracy : 0.809  (0.011)  en 65.654   s\n",
            "Classifier :  SGDClassifier  accuracy : 0.806  (0.008)  en 23.214   s\n",
            "Classifier :  BernouilliNB  accuracy : 0.805  (0.009)  en 14.891   s\n",
            "Classifier :  MultinomialNB  accuracy : 0.803  (0.015)  en 9.071   s\n",
            "Classifier :  ComplementNB  accuracy : 0.800  (0.008)  en 12.966   s\n",
            "Classifier :  LinearSVC  accuracy : 0.800  (0.005)  en 7.749   s\n",
            "Classifier :  KNN  accuracy : 0.777  (0.008)  en 30.433   s\n",
            "Classifier :  PassiveAggressiveClassifier  accuracy : 0.765  (0.010)  en 34.882   s\n",
            "Classifier :  Perceptron  accuracy : 0.760  (0.023)  en 17.402   s\n",
            "Classifier :  NearestCentroid  accuracy : 0.751  (0.014)  en 10.935   s\n"
          ],
          "name": "stdout"
        }
      ]
    },
    {
      "cell_type": "markdown",
      "metadata": {
        "id": "3hI6i4xG8i3q"
      },
      "source": [
        "**Paramètrage fin**\n",
        "> On va utiliser MultinomialNB, on passe aux hyperparamètres, qui offre le meilleur compromis résultat/temps\n",
        "\n"
      ]
    },
    {
      "cell_type": "code",
      "metadata": {
        "id": "hheHynZC8qfg"
      },
      "source": [
        "X = df_disaster.text\n",
        "y = df_disaster.relevancy\n",
        "\n",
        "# Nous appliquons les pré-traitements sur X\n",
        "\n",
        "text_normalizer=TextNormalizer(removeEmoji=True)  \n",
        "# appliquer fit.transform pour réaliser les pré-traitements sur X\n",
        "X_cleaned=text_normalizer.fit_transform(X)\n",
        "\n",
        "# pour l'enchainer avec un tf-idf et obtenir une matrice\n",
        "tfidf=TfidfVectorizer()\n",
        "features=tfidf.fit_transform(X_cleaned).toarray()"
      ],
      "execution_count": 25,
      "outputs": []
    },
    {
      "cell_type": "code",
      "metadata": {
        "colab": {
          "base_uri": "https://localhost:8080/"
        },
        "id": "04BGXOxcFtIK",
        "outputId": "c649cc8d-efde-490f-fe3b-a8b50b81110f"
      },
      "source": [
        "modelsNB = []\n",
        "score = 'accuracy'\n",
        "seed = 7        \n",
        "allresults = []\n",
        "results = []\n",
        "names = []\n",
        "\n",
        "#La seed donne toujours le même découpage ? Est-ce voulu ?\n",
        "\n",
        "modelsNB.append(('MultinomialNB_default',MultinomialNB()))\n",
        "modelsNB.append(('MultinomialNB_class_prior',MultinomialNB(fit_prior=False, class_prior=[0.35, 0.38])))\n",
        "modelsNB.append(('MultinomialNB_alpha06',MultinomialNB(alpha=0.6)))\n",
        "modelsNB.append(('MultinomialNB_alpha06_fit',MultinomialNB(fit_prior=False, alpha=0.6)))\n",
        "modelsNB.append(('MultinomialNB_alpha0',MultinomialNB(alpha=0.)))\n",
        "modelsNB.append(('MultinomialNB_alpha2',MultinomialNB(alpha=2.)))\n",
        "modelsNB.append(('MultinomialNB_fit_prior',MultinomialNB(fit_prior=False)))\n",
        "\n",
        "# attention ici il faut passer features dans cross_val_score plutôt que X\n",
        "    \n",
        "for name,model in modelsNB:\n",
        "    # cross validation en 10 fois\n",
        "    kfold = KFold(n_splits=10, random_state=seed, shuffle=True)\n",
        "    \n",
        "    print (\"Evaluation de \",name)\n",
        "    start_time = time.time()\n",
        "    # application de la classification\n",
        "    cv_results = cross_val_score(model, features, y, cv=kfold, scoring=score, n_jobs=20)\n",
        "    \n",
        "    # pour afficher les paramètres du modèle en cours et la taille du vecteur intermédiaire\n",
        "    # enlever le commentaire des deux lignes suivantes \n",
        "    #print (\"paramètre du modèle \",model.get_params(),'\\n')\n",
        "    #ICI #print (\"taille du vecteur : \",(model.named_steps['tfidf_vectorizer'].fit_transform(X)).shape,'\\n')\n",
        "\n",
        "    thetime=time.time() - start_time\n",
        "    result=Result(name,cv_results.mean(),cv_results.std(),thetime)\n",
        "    allresults.append(result)\n",
        "    # pour affichage\n",
        "    results.append(cv_results)\n",
        "    names.append(name)\n",
        "    print(\"%s : %0.3f (%0.3f) in %0.3f s\" % (name, cv_results.mean(), cv_results.std(),thetime))         \n",
        "    \n",
        "allresults=sorted(allresults, key=lambda result: result.scoremean, reverse=True) \n",
        "\n",
        "# affichage des résultats\n",
        "print ('\\nLe meilleur resultat : ')\n",
        "print ('Classifier : ',allresults[0].name, \n",
        "       ' %s : %0.3f' %(score,allresults[0].scoremean), \n",
        "       ' (%0.3f)'%allresults[0].stdresult,  \n",
        "       ' en %0.3f '%allresults[0].timespent,' s\\n')\n",
        "\n",
        "print ('Tous les résultats : \\n')\n",
        "for result in allresults:\n",
        "    print ('Classifier : ',result.name, \n",
        "       ' %s : %0.3f' %(score,result.scoremean), \n",
        "       ' (%0.3f)'%result.stdresult,  \n",
        "       ' en %0.3f '%result.timespent,' s')"
      ],
      "execution_count": 26,
      "outputs": [
        {
          "output_type": "stream",
          "text": [
            "Evaluation de  MultinomialNB_default\n",
            "MultinomialNB_default : 0.803 (0.015) in 9.347 s\n",
            "Evaluation de  MultinomialNB_class_prior\n",
            "MultinomialNB_class_prior : 0.798 (0.006) in 8.765 s\n",
            "Evaluation de  MultinomialNB_alpha06\n",
            "MultinomialNB_alpha06 : 0.804 (0.012) in 8.870 s\n",
            "Evaluation de  MultinomialNB_alpha06_fit\n",
            "MultinomialNB_alpha06_fit : 0.800 (0.006) in 7.825 s\n",
            "Evaluation de  MultinomialNB_alpha0\n",
            "MultinomialNB_alpha0 : 0.759 (0.011) in 7.633 s\n",
            "Evaluation de  MultinomialNB_alpha2\n",
            "MultinomialNB_alpha2 : 0.796 (0.015) in 8.182 s\n",
            "Evaluation de  MultinomialNB_fit_prior\n",
            "MultinomialNB_fit_prior : 0.800 (0.008) in 7.284 s\n",
            "\n",
            "Le meilleur resultat : \n",
            "Classifier :  MultinomialNB_alpha06  accuracy : 0.804  (0.012)  en 8.870   s\n",
            "\n",
            "Tous les résultats : \n",
            "\n",
            "Classifier :  MultinomialNB_alpha06  accuracy : 0.804  (0.012)  en 8.870   s\n",
            "Classifier :  MultinomialNB_default  accuracy : 0.803  (0.015)  en 9.347   s\n",
            "Classifier :  MultinomialNB_fit_prior  accuracy : 0.800  (0.008)  en 7.284   s\n",
            "Classifier :  MultinomialNB_alpha06_fit  accuracy : 0.800  (0.006)  en 7.825   s\n",
            "Classifier :  MultinomialNB_class_prior  accuracy : 0.798  (0.006)  en 8.765   s\n",
            "Classifier :  MultinomialNB_alpha2  accuracy : 0.796  (0.015)  en 8.182   s\n",
            "Classifier :  MultinomialNB_alpha0  accuracy : 0.759  (0.011)  en 7.633   s\n"
          ],
          "name": "stdout"
        }
      ]
    },
    {
      "cell_type": "markdown",
      "metadata": {
        "id": "5XEyYpFfgl6B"
      },
      "source": [
        "**Matrice de confusion**"
      ]
    },
    {
      "cell_type": "code",
      "metadata": {
        "id": "lwuNhLO9CDlm",
        "colab": {
          "base_uri": "https://localhost:8080/",
          "height": 605
        },
        "outputId": "760e832e-0e34-4a12-a0b1-4142e7db612e"
      },
      "source": [
        "from sklearn.model_selection import train_test_split\n",
        "X = df_disaster.text\n",
        "y = df_disaster.relevancy\n",
        "\n",
        "# Création d'un jeu d'apprentissage et de test\n",
        "trainsize=0.7 # 70% pour le jeu d'apprentissage, il reste 30% du jeu de données pour le test\n",
        "\n",
        "testsize=0.3\n",
        "seed=30\n",
        "X_train,X_test,y_train,y_test=train_test_split(X, y, train_size=trainsize, random_state=seed, test_size=testsize)\n",
        "\n",
        "# création du pipeline en ajoutant le classifier\n",
        "pipe = Pipeline([('cleaner', TextNormalizer(removeEmoji=True)), \n",
        "                 ('tfidf_vectorizer', TfidfVectorizer(lowercase=True)), #Deja True par défaut\n",
        "                 ('MultinomialNB',MultinomialNB(alpha=0.6))])\n",
        "pipe.fit(X_train,y_train)\n",
        "\n",
        "print(\"pipeline créé\")\n",
        "\n",
        "from sklearn import metrics\n",
        "\n",
        "y_pred = pipe.predict(X_test)\n",
        "\n",
        "MyshowAllScores(y_test,y_pred)"
      ],
      "execution_count": 28,
      "outputs": [
        {
          "output_type": "stream",
          "text": [
            "pipeline créé\n",
            "Accuracy : 0.810\n",
            "Classification Report\n",
            "              precision    recall  f1-score   support\n",
            "\n",
            "Not Relevant    0.78581   0.91968   0.84749      1855\n",
            "    Relevant    0.85957   0.66231   0.74815      1377\n",
            "\n",
            "    accuracy                        0.81002      3232\n",
            "   macro avg    0.82269   0.79099   0.79782      3232\n",
            "weighted avg    0.81724   0.81002   0.80517      3232\n",
            "\n"
          ],
          "name": "stdout"
        },
        {
          "output_type": "display_data",
          "data": {
            "text/plain": [
              "<Figure size 576x360 with 2 Axes>"
            ],
            "image/png": "[encoded data removed]"
          },
          "metadata": {
            "tags": []
          }
        }
      ]
    },
    {
      "cell_type": "markdown",
      "metadata": {
        "id": "0uNBx9Zx9EVF"
      },
      "source": [
        "## Sauvegarde du modèle"
      ]
    },
    {
      "cell_type": "code",
      "metadata": {
        "id": "YtwmwjcQp9qa",
        "colab": {
          "base_uri": "https://localhost:8080/"
        },
        "outputId": "550edbb4-7129-48e0-fbb5-8e9d9863b05f"
      },
      "source": [
        "X=df_disaster.text\n",
        "y=df_disaster.relevancy\n",
        "\n",
        "pipeline=Pipeline([(\"cleaner\", TextNormalizer(removeEmoji=True)),\n",
        "                   (\"tfidf\", TfidfVectorizer(lowercase='True')),\n",
        "                   ('MultinomialNB',MultinomialNB(alpha=0.6))])\n",
        "pipeline.fit(X,y)\n",
        "filename='disasterRelevantModelMultiNB_alpha06.pkl'\n",
        "print(\"Sauvegarde du modèle dans \", filename)\n",
        "pickle.dump(pipeline, open(filename, \"wb\"))"
      ],
      "execution_count": 31,
      "outputs": [
        {
          "output_type": "stream",
          "text": [
            "Sauvegarde du modèle dans  disasterRelevantModelMultiNB_alpha06.pkl\n"
          ],
          "name": "stdout"
        }
      ]
    }
  ]
}